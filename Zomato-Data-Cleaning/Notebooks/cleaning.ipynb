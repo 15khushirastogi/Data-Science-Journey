{
 "cells": [
  {
   "cell_type": "code",
   "execution_count": 1,
   "id": "61dd5b80",
   "metadata": {},
   "outputs": [],
   "source": [
    "import pandas as pd"
   ]
  },
  {
   "cell_type": "code",
   "execution_count": 3,
   "id": "a04f8caf",
   "metadata": {},
   "outputs": [],
   "source": [
    "data=pd.read_csv('../data/zomato.csv',encoding='latin-1')"
   ]
  },
  {
   "cell_type": "code",
   "execution_count": 4,
   "id": "e3e31c0f",
   "metadata": {},
   "outputs": [
    {
     "data": {
      "text/plain": [
       "(51717, 17)"
      ]
     },
     "execution_count": 4,
     "metadata": {},
     "output_type": "execute_result"
    }
   ],
   "source": [
    "data.shape"
   ]
  },
  {
   "cell_type": "code",
   "execution_count": 5,
   "id": "8f1c7981",
   "metadata": {},
   "outputs": [
    {
     "data": {
      "text/plain": [
       "'\\nData Cleaning:\\n\\nDeleting redundant columns.\\nRenaming the columns.\\nDropping duplicates.\\nCleaning individual columns.\\nRemove the NaN values from the dataset\\nCheck for some more Transformations\\n\\n'"
      ]
     },
     "execution_count": 5,
     "metadata": {},
     "output_type": "execute_result"
    }
   ],
   "source": [
    "'''\n",
    "Data Cleaning:\n",
    "\n",
    "Deleting redundant columns.\n",
    "Renaming the columns.\n",
    "Dropping duplicates.\n",
    "Cleaning individual columns.\n",
    "Remove the NaN values from the dataset\n",
    "Check for some more Transformations\n",
    "\n",
    "'''"
   ]
  },
  {
   "cell_type": "code",
   "execution_count": 6,
   "id": "af8b55ea",
   "metadata": {},
   "outputs": [
    {
     "data": {
      "text/plain": [
       "Index(['url', 'address', 'name', 'online_order', 'book_table', 'rate', 'votes',\n",
       "       'phone', 'location', 'rest_type', 'dish_liked', 'cuisines',\n",
       "       'approx_cost(for two people)', 'reviews_list', 'menu_item',\n",
       "       'listed_in(type)', 'listed_in(city)'],\n",
       "      dtype='object')"
      ]
     },
     "execution_count": 6,
     "metadata": {},
     "output_type": "execute_result"
    }
   ],
   "source": [
    "data.columns"
   ]
  },
  {
   "cell_type": "code",
   "execution_count": 7,
   "id": "fbca4dc8",
   "metadata": {},
   "outputs": [],
   "source": [
    "columns_to_keep=['name', 'online_order', 'book_table', 'rate','dish_liked',\n",
    "       'approx_cost(for two people)']\n",
    "columns_to_drop=['url', 'address','votes',\n",
    "       'phone', 'location', 'rest_type', 'cuisines','reviews_list', 'menu_item',\n",
    "       'listed_in(type)', 'listed_in(city)']"
   ]
  },
  {
   "cell_type": "code",
   "execution_count": 8,
   "id": "e603d443",
   "metadata": {},
   "outputs": [
    {
     "data": {
      "text/plain": [
       "6"
      ]
     },
     "execution_count": 8,
     "metadata": {},
     "output_type": "execute_result"
    }
   ],
   "source": [
    "len(columns_to_keep)"
   ]
  },
  {
   "cell_type": "code",
   "execution_count": 9,
   "id": "b8a82a11",
   "metadata": {},
   "outputs": [
    {
     "data": {
      "text/plain": [
       "11"
      ]
     },
     "execution_count": 9,
     "metadata": {},
     "output_type": "execute_result"
    }
   ],
   "source": [
    "len(columns_to_drop)"
   ]
  },
  {
   "cell_type": "markdown",
   "id": "b4395243",
   "metadata": {},
   "source": [
    "# 1- Filtering data "
   ]
  },
  {
   "cell_type": "code",
   "execution_count": 10,
   "id": "cc0b8c86",
   "metadata": {},
   "outputs": [],
   "source": [
    "data=data[columns_to_keep]"
   ]
  },
  {
   "cell_type": "code",
   "execution_count": 11,
   "id": "3c324c20",
   "metadata": {},
   "outputs": [
    {
     "data": {
      "text/plain": [
       "Index(['name', 'online_order', 'book_table', 'rate', 'dish_liked',\n",
       "       'approx_cost(for two people)'],\n",
       "      dtype='object')"
      ]
     },
     "execution_count": 11,
     "metadata": {},
     "output_type": "execute_result"
    }
   ],
   "source": [
    "data.columns"
   ]
  },
  {
   "cell_type": "code",
   "execution_count": 12,
   "id": "ab05ac74",
   "metadata": {},
   "outputs": [
    {
     "data": {
      "text/html": [
       "<div>\n",
       "<style scoped>\n",
       "    .dataframe tbody tr th:only-of-type {\n",
       "        vertical-align: middle;\n",
       "    }\n",
       "\n",
       "    .dataframe tbody tr th {\n",
       "        vertical-align: top;\n",
       "    }\n",
       "\n",
       "    .dataframe thead th {\n",
       "        text-align: right;\n",
       "    }\n",
       "</style>\n",
       "<table border=\"1\" class=\"dataframe\">\n",
       "  <thead>\n",
       "    <tr style=\"text-align: right;\">\n",
       "      <th></th>\n",
       "      <th>name</th>\n",
       "      <th>online_order</th>\n",
       "      <th>book_table</th>\n",
       "      <th>rate</th>\n",
       "      <th>dish_liked</th>\n",
       "      <th>approx_cost(for two people)</th>\n",
       "    </tr>\n",
       "  </thead>\n",
       "  <tbody>\n",
       "    <tr>\n",
       "      <th>0</th>\n",
       "      <td>Jalsa</td>\n",
       "      <td>Yes</td>\n",
       "      <td>Yes</td>\n",
       "      <td>4.1/5</td>\n",
       "      <td>Pasta, Lunch Buffet, Masala Papad, Paneer Laja...</td>\n",
       "      <td>800</td>\n",
       "    </tr>\n",
       "    <tr>\n",
       "      <th>1</th>\n",
       "      <td>Spice Elephant</td>\n",
       "      <td>Yes</td>\n",
       "      <td>No</td>\n",
       "      <td>4.1/5</td>\n",
       "      <td>Momos, Lunch Buffet, Chocolate Nirvana, Thai G...</td>\n",
       "      <td>800</td>\n",
       "    </tr>\n",
       "    <tr>\n",
       "      <th>2</th>\n",
       "      <td>San Churro Cafe</td>\n",
       "      <td>Yes</td>\n",
       "      <td>No</td>\n",
       "      <td>3.8/5</td>\n",
       "      <td>Churros, Cannelloni, Minestrone Soup, Hot Choc...</td>\n",
       "      <td>800</td>\n",
       "    </tr>\n",
       "    <tr>\n",
       "      <th>3</th>\n",
       "      <td>Addhuri Udupi Bhojana</td>\n",
       "      <td>No</td>\n",
       "      <td>No</td>\n",
       "      <td>3.7/5</td>\n",
       "      <td>Masala Dosa</td>\n",
       "      <td>300</td>\n",
       "    </tr>\n",
       "    <tr>\n",
       "      <th>4</th>\n",
       "      <td>Grand Village</td>\n",
       "      <td>No</td>\n",
       "      <td>No</td>\n",
       "      <td>3.8/5</td>\n",
       "      <td>Panipuri, Gol Gappe</td>\n",
       "      <td>600</td>\n",
       "    </tr>\n",
       "    <tr>\n",
       "      <th>...</th>\n",
       "      <td>...</td>\n",
       "      <td>...</td>\n",
       "      <td>...</td>\n",
       "      <td>...</td>\n",
       "      <td>...</td>\n",
       "      <td>...</td>\n",
       "    </tr>\n",
       "    <tr>\n",
       "      <th>51712</th>\n",
       "      <td>Best Brews - Four Points by Sheraton Bengaluru...</td>\n",
       "      <td>No</td>\n",
       "      <td>No</td>\n",
       "      <td>3.6 /5</td>\n",
       "      <td>NaN</td>\n",
       "      <td>1,500</td>\n",
       "    </tr>\n",
       "    <tr>\n",
       "      <th>51713</th>\n",
       "      <td>Vinod Bar And Restaurant</td>\n",
       "      <td>No</td>\n",
       "      <td>No</td>\n",
       "      <td>NaN</td>\n",
       "      <td>NaN</td>\n",
       "      <td>600</td>\n",
       "    </tr>\n",
       "    <tr>\n",
       "      <th>51714</th>\n",
       "      <td>Plunge - Sheraton Grand Bengaluru Whitefield H...</td>\n",
       "      <td>No</td>\n",
       "      <td>No</td>\n",
       "      <td>NaN</td>\n",
       "      <td>NaN</td>\n",
       "      <td>2,000</td>\n",
       "    </tr>\n",
       "    <tr>\n",
       "      <th>51715</th>\n",
       "      <td>Chime - Sheraton Grand Bengaluru Whitefield Ho...</td>\n",
       "      <td>No</td>\n",
       "      <td>Yes</td>\n",
       "      <td>4.3 /5</td>\n",
       "      <td>Cocktails, Pizza, Buttermilk</td>\n",
       "      <td>2,500</td>\n",
       "    </tr>\n",
       "    <tr>\n",
       "      <th>51716</th>\n",
       "      <td>The Nest - The Den Bengaluru</td>\n",
       "      <td>No</td>\n",
       "      <td>No</td>\n",
       "      <td>3.4 /5</td>\n",
       "      <td>NaN</td>\n",
       "      <td>1,500</td>\n",
       "    </tr>\n",
       "  </tbody>\n",
       "</table>\n",
       "<p>51717 rows × 6 columns</p>\n",
       "</div>"
      ],
      "text/plain": [
       "                                                    name online_order  \\\n",
       "0                                                  Jalsa          Yes   \n",
       "1                                         Spice Elephant          Yes   \n",
       "2                                        San Churro Cafe          Yes   \n",
       "3                                  Addhuri Udupi Bhojana           No   \n",
       "4                                          Grand Village           No   \n",
       "...                                                  ...          ...   \n",
       "51712  Best Brews - Four Points by Sheraton Bengaluru...           No   \n",
       "51713                           Vinod Bar And Restaurant           No   \n",
       "51714  Plunge - Sheraton Grand Bengaluru Whitefield H...           No   \n",
       "51715  Chime - Sheraton Grand Bengaluru Whitefield Ho...           No   \n",
       "51716                       The Nest - The Den Bengaluru           No   \n",
       "\n",
       "      book_table    rate                                         dish_liked  \\\n",
       "0            Yes   4.1/5  Pasta, Lunch Buffet, Masala Papad, Paneer Laja...   \n",
       "1             No   4.1/5  Momos, Lunch Buffet, Chocolate Nirvana, Thai G...   \n",
       "2             No   3.8/5  Churros, Cannelloni, Minestrone Soup, Hot Choc...   \n",
       "3             No   3.7/5                                        Masala Dosa   \n",
       "4             No   3.8/5                                Panipuri, Gol Gappe   \n",
       "...          ...     ...                                                ...   \n",
       "51712         No  3.6 /5                                                NaN   \n",
       "51713         No     NaN                                                NaN   \n",
       "51714         No     NaN                                                NaN   \n",
       "51715        Yes  4.3 /5                       Cocktails, Pizza, Buttermilk   \n",
       "51716         No  3.4 /5                                                NaN   \n",
       "\n",
       "      approx_cost(for two people)  \n",
       "0                             800  \n",
       "1                             800  \n",
       "2                             800  \n",
       "3                             300  \n",
       "4                             600  \n",
       "...                           ...  \n",
       "51712                       1,500  \n",
       "51713                         600  \n",
       "51714                       2,000  \n",
       "51715                       2,500  \n",
       "51716                       1,500  \n",
       "\n",
       "[51717 rows x 6 columns]"
      ]
     },
     "execution_count": 12,
     "metadata": {},
     "output_type": "execute_result"
    }
   ],
   "source": [
    "data"
   ]
  },
  {
   "cell_type": "code",
   "execution_count": 13,
   "id": "c90b4ad9",
   "metadata": {},
   "outputs": [],
   "source": [
    "new_column_names=[]\n",
    "for i in data.columns:\n",
    "  new_column_names.append(i.capitalize())\n",
    "  "
   ]
  },
  {
   "cell_type": "code",
   "execution_count": 14,
   "id": "317439dd",
   "metadata": {},
   "outputs": [
    {
     "data": {
      "text/plain": [
       "['Name',\n",
       " 'Online_order',\n",
       " 'Book_table',\n",
       " 'Rate',\n",
       " 'Dish_liked',\n",
       " 'Approx_cost(for two people)']"
      ]
     },
     "execution_count": 14,
     "metadata": {},
     "output_type": "execute_result"
    }
   ],
   "source": [
    "new_column_names"
   ]
  },
  {
   "cell_type": "code",
   "execution_count": 15,
   "id": "b31e21d6",
   "metadata": {},
   "outputs": [],
   "source": [
    "data.columns=new_column_names"
   ]
  },
  {
   "cell_type": "code",
   "execution_count": 16,
   "id": "23f643cb",
   "metadata": {},
   "outputs": [
    {
     "data": {
      "text/plain": [
       "Index(['Name', 'Online_order', 'Book_table', 'Rate', 'Dish_liked',\n",
       "       'Approx_cost(for two people)'],\n",
       "      dtype='object')"
      ]
     },
     "execution_count": 16,
     "metadata": {},
     "output_type": "execute_result"
    }
   ],
   "source": [
    "data.columns"
   ]
  },
  {
   "cell_type": "code",
   "execution_count": 17,
   "id": "7fe35757",
   "metadata": {},
   "outputs": [
    {
     "data": {
      "text/html": [
       "<div>\n",
       "<style scoped>\n",
       "    .dataframe tbody tr th:only-of-type {\n",
       "        vertical-align: middle;\n",
       "    }\n",
       "\n",
       "    .dataframe tbody tr th {\n",
       "        vertical-align: top;\n",
       "    }\n",
       "\n",
       "    .dataframe thead th {\n",
       "        text-align: right;\n",
       "    }\n",
       "</style>\n",
       "<table border=\"1\" class=\"dataframe\">\n",
       "  <thead>\n",
       "    <tr style=\"text-align: right;\">\n",
       "      <th></th>\n",
       "      <th>Name</th>\n",
       "      <th>Online_order</th>\n",
       "      <th>Book_table</th>\n",
       "      <th>Rate</th>\n",
       "      <th>Dish_liked</th>\n",
       "      <th>Approx_cost(for two people)</th>\n",
       "    </tr>\n",
       "  </thead>\n",
       "  <tbody>\n",
       "    <tr>\n",
       "      <th>0</th>\n",
       "      <td>Jalsa</td>\n",
       "      <td>Yes</td>\n",
       "      <td>Yes</td>\n",
       "      <td>4.1/5</td>\n",
       "      <td>Pasta, Lunch Buffet, Masala Papad, Paneer Laja...</td>\n",
       "      <td>800</td>\n",
       "    </tr>\n",
       "    <tr>\n",
       "      <th>1</th>\n",
       "      <td>Spice Elephant</td>\n",
       "      <td>Yes</td>\n",
       "      <td>No</td>\n",
       "      <td>4.1/5</td>\n",
       "      <td>Momos, Lunch Buffet, Chocolate Nirvana, Thai G...</td>\n",
       "      <td>800</td>\n",
       "    </tr>\n",
       "    <tr>\n",
       "      <th>2</th>\n",
       "      <td>San Churro Cafe</td>\n",
       "      <td>Yes</td>\n",
       "      <td>No</td>\n",
       "      <td>3.8/5</td>\n",
       "      <td>Churros, Cannelloni, Minestrone Soup, Hot Choc...</td>\n",
       "      <td>800</td>\n",
       "    </tr>\n",
       "    <tr>\n",
       "      <th>3</th>\n",
       "      <td>Addhuri Udupi Bhojana</td>\n",
       "      <td>No</td>\n",
       "      <td>No</td>\n",
       "      <td>3.7/5</td>\n",
       "      <td>Masala Dosa</td>\n",
       "      <td>300</td>\n",
       "    </tr>\n",
       "    <tr>\n",
       "      <th>4</th>\n",
       "      <td>Grand Village</td>\n",
       "      <td>No</td>\n",
       "      <td>No</td>\n",
       "      <td>3.8/5</td>\n",
       "      <td>Panipuri, Gol Gappe</td>\n",
       "      <td>600</td>\n",
       "    </tr>\n",
       "    <tr>\n",
       "      <th>...</th>\n",
       "      <td>...</td>\n",
       "      <td>...</td>\n",
       "      <td>...</td>\n",
       "      <td>...</td>\n",
       "      <td>...</td>\n",
       "      <td>...</td>\n",
       "    </tr>\n",
       "    <tr>\n",
       "      <th>51712</th>\n",
       "      <td>Best Brews - Four Points by Sheraton Bengaluru...</td>\n",
       "      <td>No</td>\n",
       "      <td>No</td>\n",
       "      <td>3.6 /5</td>\n",
       "      <td>NaN</td>\n",
       "      <td>1,500</td>\n",
       "    </tr>\n",
       "    <tr>\n",
       "      <th>51713</th>\n",
       "      <td>Vinod Bar And Restaurant</td>\n",
       "      <td>No</td>\n",
       "      <td>No</td>\n",
       "      <td>NaN</td>\n",
       "      <td>NaN</td>\n",
       "      <td>600</td>\n",
       "    </tr>\n",
       "    <tr>\n",
       "      <th>51714</th>\n",
       "      <td>Plunge - Sheraton Grand Bengaluru Whitefield H...</td>\n",
       "      <td>No</td>\n",
       "      <td>No</td>\n",
       "      <td>NaN</td>\n",
       "      <td>NaN</td>\n",
       "      <td>2,000</td>\n",
       "    </tr>\n",
       "    <tr>\n",
       "      <th>51715</th>\n",
       "      <td>Chime - Sheraton Grand Bengaluru Whitefield Ho...</td>\n",
       "      <td>No</td>\n",
       "      <td>Yes</td>\n",
       "      <td>4.3 /5</td>\n",
       "      <td>Cocktails, Pizza, Buttermilk</td>\n",
       "      <td>2,500</td>\n",
       "    </tr>\n",
       "    <tr>\n",
       "      <th>51716</th>\n",
       "      <td>The Nest - The Den Bengaluru</td>\n",
       "      <td>No</td>\n",
       "      <td>No</td>\n",
       "      <td>3.4 /5</td>\n",
       "      <td>NaN</td>\n",
       "      <td>1,500</td>\n",
       "    </tr>\n",
       "  </tbody>\n",
       "</table>\n",
       "<p>51717 rows × 6 columns</p>\n",
       "</div>"
      ],
      "text/plain": [
       "                                                    Name Online_order  \\\n",
       "0                                                  Jalsa          Yes   \n",
       "1                                         Spice Elephant          Yes   \n",
       "2                                        San Churro Cafe          Yes   \n",
       "3                                  Addhuri Udupi Bhojana           No   \n",
       "4                                          Grand Village           No   \n",
       "...                                                  ...          ...   \n",
       "51712  Best Brews - Four Points by Sheraton Bengaluru...           No   \n",
       "51713                           Vinod Bar And Restaurant           No   \n",
       "51714  Plunge - Sheraton Grand Bengaluru Whitefield H...           No   \n",
       "51715  Chime - Sheraton Grand Bengaluru Whitefield Ho...           No   \n",
       "51716                       The Nest - The Den Bengaluru           No   \n",
       "\n",
       "      Book_table    Rate                                         Dish_liked  \\\n",
       "0            Yes   4.1/5  Pasta, Lunch Buffet, Masala Papad, Paneer Laja...   \n",
       "1             No   4.1/5  Momos, Lunch Buffet, Chocolate Nirvana, Thai G...   \n",
       "2             No   3.8/5  Churros, Cannelloni, Minestrone Soup, Hot Choc...   \n",
       "3             No   3.7/5                                        Masala Dosa   \n",
       "4             No   3.8/5                                Panipuri, Gol Gappe   \n",
       "...          ...     ...                                                ...   \n",
       "51712         No  3.6 /5                                                NaN   \n",
       "51713         No     NaN                                                NaN   \n",
       "51714         No     NaN                                                NaN   \n",
       "51715        Yes  4.3 /5                       Cocktails, Pizza, Buttermilk   \n",
       "51716         No  3.4 /5                                                NaN   \n",
       "\n",
       "      Approx_cost(for two people)  \n",
       "0                             800  \n",
       "1                             800  \n",
       "2                             800  \n",
       "3                             300  \n",
       "4                             600  \n",
       "...                           ...  \n",
       "51712                       1,500  \n",
       "51713                         600  \n",
       "51714                       2,000  \n",
       "51715                       2,500  \n",
       "51716                       1,500  \n",
       "\n",
       "[51717 rows x 6 columns]"
      ]
     },
     "execution_count": 17,
     "metadata": {},
     "output_type": "execute_result"
    }
   ],
   "source": [
    "data"
   ]
  },
  {
   "cell_type": "markdown",
   "id": "53dd57b3",
   "metadata": {},
   "source": [
    "# removing duplicates"
   ]
  },
  {
   "cell_type": "code",
   "execution_count": 19,
   "id": "1d01c449",
   "metadata": {},
   "outputs": [
    {
     "data": {
      "text/plain": [
       "32808"
      ]
     },
     "execution_count": 19,
     "metadata": {},
     "output_type": "execute_result"
    }
   ],
   "source": [
    "data.duplicated().sum()"
   ]
  },
  {
   "cell_type": "code",
   "execution_count": 20,
   "id": "05557e1f",
   "metadata": {},
   "outputs": [],
   "source": [
    "data.drop_duplicates(inplace=True)"
   ]
  },
  {
   "cell_type": "code",
   "execution_count": 22,
   "id": "325447a9",
   "metadata": {},
   "outputs": [
    {
     "data": {
      "text/plain": [
       "0"
      ]
     },
     "execution_count": 22,
     "metadata": {},
     "output_type": "execute_result"
    }
   ],
   "source": [
    "data.duplicated().sum()"
   ]
  },
  {
   "cell_type": "code",
   "execution_count": 24,
   "id": "35c527c0",
   "metadata": {},
   "outputs": [
    {
     "data": {
      "text/plain": [
       "Name                               0\n",
       "Online_order                       0\n",
       "Book_table                         0\n",
       "Rate                            2418\n",
       "Dish_liked                     10587\n",
       "Approx_cost(for two people)      140\n",
       "dtype: int64"
      ]
     },
     "execution_count": 24,
     "metadata": {},
     "output_type": "execute_result"
    }
   ],
   "source": [
    "data.isna().sum()"
   ]
  },
  {
   "cell_type": "code",
   "execution_count": 25,
   "id": "b089cc84",
   "metadata": {},
   "outputs": [],
   "source": [
    "data.dropna(inplace=True)"
   ]
  },
  {
   "cell_type": "code",
   "execution_count": 26,
   "id": "1baf2e0c",
   "metadata": {},
   "outputs": [
    {
     "data": {
      "text/plain": [
       "Name                           0\n",
       "Online_order                   0\n",
       "Book_table                     0\n",
       "Rate                           0\n",
       "Dish_liked                     0\n",
       "Approx_cost(for two people)    0\n",
       "dtype: int64"
      ]
     },
     "execution_count": 26,
     "metadata": {},
     "output_type": "execute_result"
    }
   ],
   "source": [
    "data.isna().sum()"
   ]
  },
  {
   "cell_type": "code",
   "execution_count": 27,
   "id": "2774d991",
   "metadata": {},
   "outputs": [],
   "source": [
    "data.reset_index(inplace=True)"
   ]
  },
  {
   "cell_type": "code",
   "execution_count": 28,
   "id": "422941e9",
   "metadata": {},
   "outputs": [
    {
     "data": {
      "text/html": [
       "<div>\n",
       "<style scoped>\n",
       "    .dataframe tbody tr th:only-of-type {\n",
       "        vertical-align: middle;\n",
       "    }\n",
       "\n",
       "    .dataframe tbody tr th {\n",
       "        vertical-align: top;\n",
       "    }\n",
       "\n",
       "    .dataframe thead th {\n",
       "        text-align: right;\n",
       "    }\n",
       "</style>\n",
       "<table border=\"1\" class=\"dataframe\">\n",
       "  <thead>\n",
       "    <tr style=\"text-align: right;\">\n",
       "      <th></th>\n",
       "      <th>index</th>\n",
       "      <th>Name</th>\n",
       "      <th>Online_order</th>\n",
       "      <th>Book_table</th>\n",
       "      <th>Rate</th>\n",
       "      <th>Dish_liked</th>\n",
       "      <th>Approx_cost(for two people)</th>\n",
       "    </tr>\n",
       "  </thead>\n",
       "  <tbody>\n",
       "    <tr>\n",
       "      <th>0</th>\n",
       "      <td>0</td>\n",
       "      <td>Jalsa</td>\n",
       "      <td>Yes</td>\n",
       "      <td>Yes</td>\n",
       "      <td>4.1/5</td>\n",
       "      <td>Pasta, Lunch Buffet, Masala Papad, Paneer Laja...</td>\n",
       "      <td>800</td>\n",
       "    </tr>\n",
       "    <tr>\n",
       "      <th>1</th>\n",
       "      <td>1</td>\n",
       "      <td>Spice Elephant</td>\n",
       "      <td>Yes</td>\n",
       "      <td>No</td>\n",
       "      <td>4.1/5</td>\n",
       "      <td>Momos, Lunch Buffet, Chocolate Nirvana, Thai G...</td>\n",
       "      <td>800</td>\n",
       "    </tr>\n",
       "    <tr>\n",
       "      <th>2</th>\n",
       "      <td>2</td>\n",
       "      <td>San Churro Cafe</td>\n",
       "      <td>Yes</td>\n",
       "      <td>No</td>\n",
       "      <td>3.8/5</td>\n",
       "      <td>Churros, Cannelloni, Minestrone Soup, Hot Choc...</td>\n",
       "      <td>800</td>\n",
       "    </tr>\n",
       "    <tr>\n",
       "      <th>3</th>\n",
       "      <td>3</td>\n",
       "      <td>Addhuri Udupi Bhojana</td>\n",
       "      <td>No</td>\n",
       "      <td>No</td>\n",
       "      <td>3.7/5</td>\n",
       "      <td>Masala Dosa</td>\n",
       "      <td>300</td>\n",
       "    </tr>\n",
       "    <tr>\n",
       "      <th>4</th>\n",
       "      <td>4</td>\n",
       "      <td>Grand Village</td>\n",
       "      <td>No</td>\n",
       "      <td>No</td>\n",
       "      <td>3.8/5</td>\n",
       "      <td>Panipuri, Gol Gappe</td>\n",
       "      <td>600</td>\n",
       "    </tr>\n",
       "    <tr>\n",
       "      <th>...</th>\n",
       "      <td>...</td>\n",
       "      <td>...</td>\n",
       "      <td>...</td>\n",
       "      <td>...</td>\n",
       "      <td>...</td>\n",
       "      <td>...</td>\n",
       "      <td>...</td>\n",
       "    </tr>\n",
       "    <tr>\n",
       "      <th>8245</th>\n",
       "      <td>51611</td>\n",
       "      <td>Chung Wah</td>\n",
       "      <td>No</td>\n",
       "      <td>No</td>\n",
       "      <td>2.5 /5</td>\n",
       "      <td>Manchow Soup</td>\n",
       "      <td>800</td>\n",
       "    </tr>\n",
       "    <tr>\n",
       "      <th>8246</th>\n",
       "      <td>51617</td>\n",
       "      <td>Breakfast House</td>\n",
       "      <td>No</td>\n",
       "      <td>No</td>\n",
       "      <td>3.6 /5</td>\n",
       "      <td>Coffee, Vada, Mla Dosa</td>\n",
       "      <td>300</td>\n",
       "    </tr>\n",
       "    <tr>\n",
       "      <th>8247</th>\n",
       "      <td>51620</td>\n",
       "      <td>Fujian Express</td>\n",
       "      <td>Yes</td>\n",
       "      <td>No</td>\n",
       "      <td>3.8 /5</td>\n",
       "      <td>Noodles, Chicken Noodle, Momos, American Chops...</td>\n",
       "      <td>600</td>\n",
       "    </tr>\n",
       "    <tr>\n",
       "      <th>8248</th>\n",
       "      <td>51628</td>\n",
       "      <td>Nook - Aloft Bengaluru Cessna Business Park</td>\n",
       "      <td>No</td>\n",
       "      <td>Yes</td>\n",
       "      <td>4.2 /5</td>\n",
       "      <td>Chicken Quesadilla, Naan, Breakfast Buffet, Ch...</td>\n",
       "      <td>1,800</td>\n",
       "    </tr>\n",
       "    <tr>\n",
       "      <th>8249</th>\n",
       "      <td>51677</td>\n",
       "      <td>Bhagini</td>\n",
       "      <td>No</td>\n",
       "      <td>No</td>\n",
       "      <td>2.5 /5</td>\n",
       "      <td>Biryani, Andhra Meal</td>\n",
       "      <td>800</td>\n",
       "    </tr>\n",
       "  </tbody>\n",
       "</table>\n",
       "<p>8250 rows × 7 columns</p>\n",
       "</div>"
      ],
      "text/plain": [
       "      index                                         Name Online_order  \\\n",
       "0         0                                        Jalsa          Yes   \n",
       "1         1                               Spice Elephant          Yes   \n",
       "2         2                              San Churro Cafe          Yes   \n",
       "3         3                        Addhuri Udupi Bhojana           No   \n",
       "4         4                                Grand Village           No   \n",
       "...     ...                                          ...          ...   \n",
       "8245  51611                                    Chung Wah           No   \n",
       "8246  51617                              Breakfast House           No   \n",
       "8247  51620                               Fujian Express          Yes   \n",
       "8248  51628  Nook - Aloft Bengaluru Cessna Business Park           No   \n",
       "8249  51677                                      Bhagini           No   \n",
       "\n",
       "     Book_table    Rate                                         Dish_liked  \\\n",
       "0           Yes   4.1/5  Pasta, Lunch Buffet, Masala Papad, Paneer Laja...   \n",
       "1            No   4.1/5  Momos, Lunch Buffet, Chocolate Nirvana, Thai G...   \n",
       "2            No   3.8/5  Churros, Cannelloni, Minestrone Soup, Hot Choc...   \n",
       "3            No   3.7/5                                        Masala Dosa   \n",
       "4            No   3.8/5                                Panipuri, Gol Gappe   \n",
       "...         ...     ...                                                ...   \n",
       "8245         No  2.5 /5                                       Manchow Soup   \n",
       "8246         No  3.6 /5                             Coffee, Vada, Mla Dosa   \n",
       "8247         No  3.8 /5  Noodles, Chicken Noodle, Momos, American Chops...   \n",
       "8248        Yes  4.2 /5  Chicken Quesadilla, Naan, Breakfast Buffet, Ch...   \n",
       "8249         No  2.5 /5                               Biryani, Andhra Meal   \n",
       "\n",
       "     Approx_cost(for two people)  \n",
       "0                            800  \n",
       "1                            800  \n",
       "2                            800  \n",
       "3                            300  \n",
       "4                            600  \n",
       "...                          ...  \n",
       "8245                         800  \n",
       "8246                         300  \n",
       "8247                         600  \n",
       "8248                       1,800  \n",
       "8249                         800  \n",
       "\n",
       "[8250 rows x 7 columns]"
      ]
     },
     "execution_count": 28,
     "metadata": {},
     "output_type": "execute_result"
    }
   ],
   "source": [
    "data"
   ]
  },
  {
   "cell_type": "code",
   "execution_count": 29,
   "id": "20d8e0b7",
   "metadata": {},
   "outputs": [],
   "source": [
    "data.drop(columns=['index'],inplace=True)"
   ]
  },
  {
   "cell_type": "code",
   "execution_count": 30,
   "id": "2e9559a9",
   "metadata": {},
   "outputs": [
    {
     "data": {
      "text/html": [
       "<div>\n",
       "<style scoped>\n",
       "    .dataframe tbody tr th:only-of-type {\n",
       "        vertical-align: middle;\n",
       "    }\n",
       "\n",
       "    .dataframe tbody tr th {\n",
       "        vertical-align: top;\n",
       "    }\n",
       "\n",
       "    .dataframe thead th {\n",
       "        text-align: right;\n",
       "    }\n",
       "</style>\n",
       "<table border=\"1\" class=\"dataframe\">\n",
       "  <thead>\n",
       "    <tr style=\"text-align: right;\">\n",
       "      <th></th>\n",
       "      <th>Name</th>\n",
       "      <th>Online_order</th>\n",
       "      <th>Book_table</th>\n",
       "      <th>Rate</th>\n",
       "      <th>Dish_liked</th>\n",
       "      <th>Approx_cost(for two people)</th>\n",
       "    </tr>\n",
       "  </thead>\n",
       "  <tbody>\n",
       "    <tr>\n",
       "      <th>0</th>\n",
       "      <td>Jalsa</td>\n",
       "      <td>Yes</td>\n",
       "      <td>Yes</td>\n",
       "      <td>4.1/5</td>\n",
       "      <td>Pasta, Lunch Buffet, Masala Papad, Paneer Laja...</td>\n",
       "      <td>800</td>\n",
       "    </tr>\n",
       "    <tr>\n",
       "      <th>1</th>\n",
       "      <td>Spice Elephant</td>\n",
       "      <td>Yes</td>\n",
       "      <td>No</td>\n",
       "      <td>4.1/5</td>\n",
       "      <td>Momos, Lunch Buffet, Chocolate Nirvana, Thai G...</td>\n",
       "      <td>800</td>\n",
       "    </tr>\n",
       "    <tr>\n",
       "      <th>2</th>\n",
       "      <td>San Churro Cafe</td>\n",
       "      <td>Yes</td>\n",
       "      <td>No</td>\n",
       "      <td>3.8/5</td>\n",
       "      <td>Churros, Cannelloni, Minestrone Soup, Hot Choc...</td>\n",
       "      <td>800</td>\n",
       "    </tr>\n",
       "    <tr>\n",
       "      <th>3</th>\n",
       "      <td>Addhuri Udupi Bhojana</td>\n",
       "      <td>No</td>\n",
       "      <td>No</td>\n",
       "      <td>3.7/5</td>\n",
       "      <td>Masala Dosa</td>\n",
       "      <td>300</td>\n",
       "    </tr>\n",
       "    <tr>\n",
       "      <th>4</th>\n",
       "      <td>Grand Village</td>\n",
       "      <td>No</td>\n",
       "      <td>No</td>\n",
       "      <td>3.8/5</td>\n",
       "      <td>Panipuri, Gol Gappe</td>\n",
       "      <td>600</td>\n",
       "    </tr>\n",
       "    <tr>\n",
       "      <th>...</th>\n",
       "      <td>...</td>\n",
       "      <td>...</td>\n",
       "      <td>...</td>\n",
       "      <td>...</td>\n",
       "      <td>...</td>\n",
       "      <td>...</td>\n",
       "    </tr>\n",
       "    <tr>\n",
       "      <th>8245</th>\n",
       "      <td>Chung Wah</td>\n",
       "      <td>No</td>\n",
       "      <td>No</td>\n",
       "      <td>2.5 /5</td>\n",
       "      <td>Manchow Soup</td>\n",
       "      <td>800</td>\n",
       "    </tr>\n",
       "    <tr>\n",
       "      <th>8246</th>\n",
       "      <td>Breakfast House</td>\n",
       "      <td>No</td>\n",
       "      <td>No</td>\n",
       "      <td>3.6 /5</td>\n",
       "      <td>Coffee, Vada, Mla Dosa</td>\n",
       "      <td>300</td>\n",
       "    </tr>\n",
       "    <tr>\n",
       "      <th>8247</th>\n",
       "      <td>Fujian Express</td>\n",
       "      <td>Yes</td>\n",
       "      <td>No</td>\n",
       "      <td>3.8 /5</td>\n",
       "      <td>Noodles, Chicken Noodle, Momos, American Chops...</td>\n",
       "      <td>600</td>\n",
       "    </tr>\n",
       "    <tr>\n",
       "      <th>8248</th>\n",
       "      <td>Nook - Aloft Bengaluru Cessna Business Park</td>\n",
       "      <td>No</td>\n",
       "      <td>Yes</td>\n",
       "      <td>4.2 /5</td>\n",
       "      <td>Chicken Quesadilla, Naan, Breakfast Buffet, Ch...</td>\n",
       "      <td>1,800</td>\n",
       "    </tr>\n",
       "    <tr>\n",
       "      <th>8249</th>\n",
       "      <td>Bhagini</td>\n",
       "      <td>No</td>\n",
       "      <td>No</td>\n",
       "      <td>2.5 /5</td>\n",
       "      <td>Biryani, Andhra Meal</td>\n",
       "      <td>800</td>\n",
       "    </tr>\n",
       "  </tbody>\n",
       "</table>\n",
       "<p>8250 rows × 6 columns</p>\n",
       "</div>"
      ],
      "text/plain": [
       "                                             Name Online_order Book_table  \\\n",
       "0                                           Jalsa          Yes        Yes   \n",
       "1                                  Spice Elephant          Yes         No   \n",
       "2                                 San Churro Cafe          Yes         No   \n",
       "3                           Addhuri Udupi Bhojana           No         No   \n",
       "4                                   Grand Village           No         No   \n",
       "...                                           ...          ...        ...   \n",
       "8245                                    Chung Wah           No         No   \n",
       "8246                              Breakfast House           No         No   \n",
       "8247                               Fujian Express          Yes         No   \n",
       "8248  Nook - Aloft Bengaluru Cessna Business Park           No        Yes   \n",
       "8249                                      Bhagini           No         No   \n",
       "\n",
       "        Rate                                         Dish_liked  \\\n",
       "0      4.1/5  Pasta, Lunch Buffet, Masala Papad, Paneer Laja...   \n",
       "1      4.1/5  Momos, Lunch Buffet, Chocolate Nirvana, Thai G...   \n",
       "2      3.8/5  Churros, Cannelloni, Minestrone Soup, Hot Choc...   \n",
       "3      3.7/5                                        Masala Dosa   \n",
       "4      3.8/5                                Panipuri, Gol Gappe   \n",
       "...      ...                                                ...   \n",
       "8245  2.5 /5                                       Manchow Soup   \n",
       "8246  3.6 /5                             Coffee, Vada, Mla Dosa   \n",
       "8247  3.8 /5  Noodles, Chicken Noodle, Momos, American Chops...   \n",
       "8248  4.2 /5  Chicken Quesadilla, Naan, Breakfast Buffet, Ch...   \n",
       "8249  2.5 /5                               Biryani, Andhra Meal   \n",
       "\n",
       "     Approx_cost(for two people)  \n",
       "0                            800  \n",
       "1                            800  \n",
       "2                            800  \n",
       "3                            300  \n",
       "4                            600  \n",
       "...                          ...  \n",
       "8245                         800  \n",
       "8246                         300  \n",
       "8247                         600  \n",
       "8248                       1,800  \n",
       "8249                         800  \n",
       "\n",
       "[8250 rows x 6 columns]"
      ]
     },
     "execution_count": 30,
     "metadata": {},
     "output_type": "execute_result"
    }
   ],
   "source": [
    "data"
   ]
  },
  {
   "cell_type": "code",
   "execution_count": 31,
   "id": "91b53818",
   "metadata": {},
   "outputs": [],
   "source": [
    "data['Online_order']=data['Online_order'].map({'Yes':1,'No':0})"
   ]
  },
  {
   "cell_type": "code",
   "execution_count": 32,
   "id": "340d941c",
   "metadata": {},
   "outputs": [
    {
     "data": {
      "text/html": [
       "<div>\n",
       "<style scoped>\n",
       "    .dataframe tbody tr th:only-of-type {\n",
       "        vertical-align: middle;\n",
       "    }\n",
       "\n",
       "    .dataframe tbody tr th {\n",
       "        vertical-align: top;\n",
       "    }\n",
       "\n",
       "    .dataframe thead th {\n",
       "        text-align: right;\n",
       "    }\n",
       "</style>\n",
       "<table border=\"1\" class=\"dataframe\">\n",
       "  <thead>\n",
       "    <tr style=\"text-align: right;\">\n",
       "      <th></th>\n",
       "      <th>Name</th>\n",
       "      <th>Online_order</th>\n",
       "      <th>Book_table</th>\n",
       "      <th>Rate</th>\n",
       "      <th>Dish_liked</th>\n",
       "      <th>Approx_cost(for two people)</th>\n",
       "    </tr>\n",
       "  </thead>\n",
       "  <tbody>\n",
       "    <tr>\n",
       "      <th>0</th>\n",
       "      <td>Jalsa</td>\n",
       "      <td>1</td>\n",
       "      <td>Yes</td>\n",
       "      <td>4.1/5</td>\n",
       "      <td>Pasta, Lunch Buffet, Masala Papad, Paneer Laja...</td>\n",
       "      <td>800</td>\n",
       "    </tr>\n",
       "    <tr>\n",
       "      <th>1</th>\n",
       "      <td>Spice Elephant</td>\n",
       "      <td>1</td>\n",
       "      <td>No</td>\n",
       "      <td>4.1/5</td>\n",
       "      <td>Momos, Lunch Buffet, Chocolate Nirvana, Thai G...</td>\n",
       "      <td>800</td>\n",
       "    </tr>\n",
       "    <tr>\n",
       "      <th>2</th>\n",
       "      <td>San Churro Cafe</td>\n",
       "      <td>1</td>\n",
       "      <td>No</td>\n",
       "      <td>3.8/5</td>\n",
       "      <td>Churros, Cannelloni, Minestrone Soup, Hot Choc...</td>\n",
       "      <td>800</td>\n",
       "    </tr>\n",
       "    <tr>\n",
       "      <th>3</th>\n",
       "      <td>Addhuri Udupi Bhojana</td>\n",
       "      <td>0</td>\n",
       "      <td>No</td>\n",
       "      <td>3.7/5</td>\n",
       "      <td>Masala Dosa</td>\n",
       "      <td>300</td>\n",
       "    </tr>\n",
       "    <tr>\n",
       "      <th>4</th>\n",
       "      <td>Grand Village</td>\n",
       "      <td>0</td>\n",
       "      <td>No</td>\n",
       "      <td>3.8/5</td>\n",
       "      <td>Panipuri, Gol Gappe</td>\n",
       "      <td>600</td>\n",
       "    </tr>\n",
       "    <tr>\n",
       "      <th>...</th>\n",
       "      <td>...</td>\n",
       "      <td>...</td>\n",
       "      <td>...</td>\n",
       "      <td>...</td>\n",
       "      <td>...</td>\n",
       "      <td>...</td>\n",
       "    </tr>\n",
       "    <tr>\n",
       "      <th>8245</th>\n",
       "      <td>Chung Wah</td>\n",
       "      <td>0</td>\n",
       "      <td>No</td>\n",
       "      <td>2.5 /5</td>\n",
       "      <td>Manchow Soup</td>\n",
       "      <td>800</td>\n",
       "    </tr>\n",
       "    <tr>\n",
       "      <th>8246</th>\n",
       "      <td>Breakfast House</td>\n",
       "      <td>0</td>\n",
       "      <td>No</td>\n",
       "      <td>3.6 /5</td>\n",
       "      <td>Coffee, Vada, Mla Dosa</td>\n",
       "      <td>300</td>\n",
       "    </tr>\n",
       "    <tr>\n",
       "      <th>8247</th>\n",
       "      <td>Fujian Express</td>\n",
       "      <td>1</td>\n",
       "      <td>No</td>\n",
       "      <td>3.8 /5</td>\n",
       "      <td>Noodles, Chicken Noodle, Momos, American Chops...</td>\n",
       "      <td>600</td>\n",
       "    </tr>\n",
       "    <tr>\n",
       "      <th>8248</th>\n",
       "      <td>Nook - Aloft Bengaluru Cessna Business Park</td>\n",
       "      <td>0</td>\n",
       "      <td>Yes</td>\n",
       "      <td>4.2 /5</td>\n",
       "      <td>Chicken Quesadilla, Naan, Breakfast Buffet, Ch...</td>\n",
       "      <td>1,800</td>\n",
       "    </tr>\n",
       "    <tr>\n",
       "      <th>8249</th>\n",
       "      <td>Bhagini</td>\n",
       "      <td>0</td>\n",
       "      <td>No</td>\n",
       "      <td>2.5 /5</td>\n",
       "      <td>Biryani, Andhra Meal</td>\n",
       "      <td>800</td>\n",
       "    </tr>\n",
       "  </tbody>\n",
       "</table>\n",
       "<p>8250 rows × 6 columns</p>\n",
       "</div>"
      ],
      "text/plain": [
       "                                             Name  Online_order Book_table  \\\n",
       "0                                           Jalsa             1        Yes   \n",
       "1                                  Spice Elephant             1         No   \n",
       "2                                 San Churro Cafe             1         No   \n",
       "3                           Addhuri Udupi Bhojana             0         No   \n",
       "4                                   Grand Village             0         No   \n",
       "...                                           ...           ...        ...   \n",
       "8245                                    Chung Wah             0         No   \n",
       "8246                              Breakfast House             0         No   \n",
       "8247                               Fujian Express             1         No   \n",
       "8248  Nook - Aloft Bengaluru Cessna Business Park             0        Yes   \n",
       "8249                                      Bhagini             0         No   \n",
       "\n",
       "        Rate                                         Dish_liked  \\\n",
       "0      4.1/5  Pasta, Lunch Buffet, Masala Papad, Paneer Laja...   \n",
       "1      4.1/5  Momos, Lunch Buffet, Chocolate Nirvana, Thai G...   \n",
       "2      3.8/5  Churros, Cannelloni, Minestrone Soup, Hot Choc...   \n",
       "3      3.7/5                                        Masala Dosa   \n",
       "4      3.8/5                                Panipuri, Gol Gappe   \n",
       "...      ...                                                ...   \n",
       "8245  2.5 /5                                       Manchow Soup   \n",
       "8246  3.6 /5                             Coffee, Vada, Mla Dosa   \n",
       "8247  3.8 /5  Noodles, Chicken Noodle, Momos, American Chops...   \n",
       "8248  4.2 /5  Chicken Quesadilla, Naan, Breakfast Buffet, Ch...   \n",
       "8249  2.5 /5                               Biryani, Andhra Meal   \n",
       "\n",
       "     Approx_cost(for two people)  \n",
       "0                            800  \n",
       "1                            800  \n",
       "2                            800  \n",
       "3                            300  \n",
       "4                            600  \n",
       "...                          ...  \n",
       "8245                         800  \n",
       "8246                         300  \n",
       "8247                         600  \n",
       "8248                       1,800  \n",
       "8249                         800  \n",
       "\n",
       "[8250 rows x 6 columns]"
      ]
     },
     "execution_count": 32,
     "metadata": {},
     "output_type": "execute_result"
    }
   ],
   "source": [
    "data"
   ]
  },
  {
   "cell_type": "markdown",
   "id": "7914b412",
   "metadata": {},
   "source": [
    "# Save the cleaned data"
   ]
  },
  {
   "cell_type": "code",
   "execution_count": 33,
   "id": "799e315d",
   "metadata": {},
   "outputs": [],
   "source": [
    "data.to_csv('../results/cleaned_data.csv',index=False)"
   ]
  },
  {
   "cell_type": "code",
   "execution_count": 34,
   "id": "e4ce9ee9",
   "metadata": {},
   "outputs": [],
   "source": [
    "data.to_csv('../results/cleaned_data.xlsx',index=False)"
   ]
  },
  {
   "cell_type": "code",
   "execution_count": null,
   "id": "a3723fa0",
   "metadata": {},
   "outputs": [],
   "source": []
  }
 ],
 "metadata": {
  "kernelspec": {
   "display_name": "base",
   "language": "python",
   "name": "python3"
  },
  "language_info": {
   "codemirror_mode": {
    "name": "ipython",
    "version": 3
   },
   "file_extension": ".py",
   "mimetype": "text/x-python",
   "name": "python",
   "nbconvert_exporter": "python",
   "pygments_lexer": "ipython3",
   "version": "3.12.4"
  }
 },
 "nbformat": 4,
 "nbformat_minor": 5
}
